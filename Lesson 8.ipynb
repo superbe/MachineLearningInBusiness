{
 "cells": [
  {
   "cell_type": "markdown",
   "metadata": {},
   "source": [
    "# Курс «Машинное обучение в бизнесе»"
   ]
  },
  {
   "cell_type": "markdown",
   "metadata": {},
   "source": [
    "## Урок 8. Кейс 2. Типы моделей для задачи оттока"
   ]
  },
  {
   "cell_type": "markdown",
   "metadata": {},
   "source": [
    "### Домашнее задание к уроку 8\n"
   ]
  },
  {
   "cell_type": "code",
   "execution_count": 1,
   "metadata": {},
   "outputs": [
    {
     "data": {
      "text/html": [
       "        <script type=\"text/javascript\">\n",
       "        window.PlotlyConfig = {MathJaxConfig: 'local'};\n",
       "        if (window.MathJax) {MathJax.Hub.Config({SVG: {font: \"STIX-Web\"}});}\n",
       "        if (typeof require !== 'undefined') {\n",
       "        require.undef(\"plotly\");\n",
       "        requirejs.config({\n",
       "            paths: {\n",
       "                'plotly': ['https://cdn.plot.ly/plotly-latest.min']\n",
       "            }\n",
       "        });\n",
       "        require(['plotly'], function(Plotly) {\n",
       "            window._Plotly = Plotly;\n",
       "        });\n",
       "        }\n",
       "        </script>\n",
       "        "
      ]
     },
     "metadata": {},
     "output_type": "display_data"
    }
   ],
   "source": [
    "import pandas as pd\n",
    "import numpy as np\n",
    "import os\n",
    "import matplotlib.pyplot as plt#visualization\n",
    "from PIL import  Image\n",
    "%matplotlib inline\n",
    "import seaborn as sns#visualization\n",
    "import itertools\n",
    "import warnings\n",
    "warnings.filterwarnings(\"ignore\")\n",
    "import io\n",
    "import plotly.offline as py#visualization\n",
    "py.init_notebook_mode(connected=True)#visualization\n",
    "import plotly.graph_objs as go#visualization\n",
    "import plotly.tools as tls#visualization\n",
    "import plotly.figure_factory as ff#visualization\n",
    "\n",
    "from sklearn.model_selection import train_test_split\n",
    "from sklearn.linear_model import LogisticRegression\n",
    "from sklearn.metrics import confusion_matrix,accuracy_score,classification_report\n",
    "from sklearn.metrics import roc_auc_score,roc_curve,scorer\n",
    "from sklearn.metrics import f1_score\n",
    "import statsmodels.api as sm\n",
    "from sklearn.metrics import precision_score,recall_score\n",
    "from yellowbrick.classifier import DiscriminationThreshold"
   ]
  },
  {
   "cell_type": "code",
   "execution_count": 2,
   "metadata": {},
   "outputs": [],
   "source": [
    "def split_data( data, split_date ):\n",
    "    return data.loc[data['date'] <= split_date].copy(), data.loc[data['date'] > split_date].copy()"
   ]
  },
  {
   "cell_type": "markdown",
   "metadata": {},
   "source": [
    "#### Задание 1"
   ]
  },
  {
   "cell_type": "markdown",
   "metadata": {},
   "source": [
    "Скачать любой понравившийся вам датасет с UCI repository(можете даже свой какой-то взять) и сразу же разделите его на тренировочную и тестовую выборки. Тестовую выборку сохраните на диск и больше не трогайте."
   ]
  },
  {
   "cell_type": "markdown",
   "metadata": {},
   "source": [
    "Для лотереи \"4 из 20\" необходимо угадать величину приза.\n",
    "\n",
    "Показатели:  \n",
    "    **date** — дата тиража  \n",
    "    **n_1_1** — первое число из 20 в первом блоке  \n",
    "    **n_1_2** — второе число из 20 в первом блоке  \n",
    "    **n_1_3** — третье число из 20 в первом блоке  \n",
    "    **n_1_4** — четвертое число из 20 в первом блоке  \n",
    "    **n_2_1** — первое число из 20 во втором блоке  \n",
    "    **n_2_2** — второе число из 20 во втором блоке  \n",
    "    **n_2_3** — третье число из 20 во втором блоке  \n",
    "    **n_2_4** — четвертое число из 20 во втором блоке  \n",
    "    **prize** — величина приза\n",
    "\n",
    "Целевая переменная **prize**"
   ]
  },
  {
   "cell_type": "code",
   "execution_count": 3,
   "metadata": {},
   "outputs": [
    {
     "name": "stdout",
     "output_type": "stream",
     "text": [
      "(2173, 10)\n",
      "Строк               :  2173\n",
      "Колонок             :  10\n",
      "\n",
      "Показатели          :\n",
      " ['date', 'n_1_1', 'n_1_2', 'n_1_3', 'n_1_4', 'n_2_1', 'n_2_2', 'n_2_3', 'n_2_4', 'prize']\n",
      "\n",
      "Пустые значения     :  0\n",
      "\n",
      "Уникальные значения :\n",
      " date     2173\n",
      "n_1_1      16\n",
      "n_1_2      17\n",
      "n_1_3      17\n",
      "n_1_4      17\n",
      "n_2_1      16\n",
      "n_2_2      17\n",
      "n_2_3      17\n",
      "n_2_4      17\n",
      "prize    1992\n",
      "dtype: int64\n",
      "\n",
      "Сводка по набору    :\n",
      "<class 'pandas.core.frame.DataFrame'>\n",
      "Int64Index: 2173 entries, 1 to 2173\n",
      "Data columns (total 10 columns):\n",
      " #   Column  Non-Null Count  Dtype         \n",
      "---  ------  --------------  -----         \n",
      " 0   date    2173 non-null   datetime64[ns]\n",
      " 1   n_1_1   2173 non-null   int64         \n",
      " 2   n_1_2   2173 non-null   int64         \n",
      " 3   n_1_3   2173 non-null   int64         \n",
      " 4   n_1_4   2173 non-null   int64         \n",
      " 5   n_2_1   2173 non-null   int64         \n",
      " 6   n_2_2   2173 non-null   int64         \n",
      " 7   n_2_3   2173 non-null   int64         \n",
      " 8   n_2_4   2173 non-null   int64         \n",
      " 9   prize   2173 non-null   object        \n",
      "dtypes: datetime64[ns](1), int64(8), object(1)\n",
      "memory usage: 186.7+ KB\n"
     ]
    },
    {
     "data": {
      "text/html": [
       "<div>\n",
       "<style scoped>\n",
       "    .dataframe tbody tr th:only-of-type {\n",
       "        vertical-align: middle;\n",
       "    }\n",
       "\n",
       "    .dataframe tbody tr th {\n",
       "        vertical-align: top;\n",
       "    }\n",
       "\n",
       "    .dataframe thead th {\n",
       "        text-align: right;\n",
       "    }\n",
       "</style>\n",
       "<table border=\"1\" class=\"dataframe\">\n",
       "  <thead>\n",
       "    <tr style=\"text-align: right;\">\n",
       "      <th></th>\n",
       "      <th>date</th>\n",
       "      <th>n_1_1</th>\n",
       "      <th>n_1_2</th>\n",
       "      <th>n_1_3</th>\n",
       "      <th>n_1_4</th>\n",
       "      <th>n_2_1</th>\n",
       "      <th>n_2_2</th>\n",
       "      <th>n_2_3</th>\n",
       "      <th>n_2_4</th>\n",
       "      <th>prize</th>\n",
       "    </tr>\n",
       "    <tr>\n",
       "      <th>circulation</th>\n",
       "      <th></th>\n",
       "      <th></th>\n",
       "      <th></th>\n",
       "      <th></th>\n",
       "      <th></th>\n",
       "      <th></th>\n",
       "      <th></th>\n",
       "      <th></th>\n",
       "      <th></th>\n",
       "      <th></th>\n",
       "    </tr>\n",
       "  </thead>\n",
       "  <tbody>\n",
       "    <tr>\n",
       "      <th>1</th>\n",
       "      <td>2016-12-31 15:10:00</td>\n",
       "      <td>2</td>\n",
       "      <td>4</td>\n",
       "      <td>10</td>\n",
       "      <td>20</td>\n",
       "      <td>2</td>\n",
       "      <td>9</td>\n",
       "      <td>16</td>\n",
       "      <td>17</td>\n",
       "      <td>1 000 000 000</td>\n",
       "    </tr>\n",
       "    <tr>\n",
       "      <th>2</th>\n",
       "      <td>2017-03-01 22:00:00</td>\n",
       "      <td>6</td>\n",
       "      <td>12</td>\n",
       "      <td>17</td>\n",
       "      <td>20</td>\n",
       "      <td>3</td>\n",
       "      <td>9</td>\n",
       "      <td>13</td>\n",
       "      <td>16</td>\n",
       "      <td>300 000 000</td>\n",
       "    </tr>\n",
       "    <tr>\n",
       "      <th>3</th>\n",
       "      <td>2017-05-01 22:00:00</td>\n",
       "      <td>5</td>\n",
       "      <td>17</td>\n",
       "      <td>18</td>\n",
       "      <td>19</td>\n",
       "      <td>11</td>\n",
       "      <td>12</td>\n",
       "      <td>14</td>\n",
       "      <td>20</td>\n",
       "      <td>300 000 000</td>\n",
       "    </tr>\n",
       "  </tbody>\n",
       "</table>\n",
       "</div>"
      ],
      "text/plain": [
       "                           date  n_1_1  n_1_2  n_1_3  n_1_4  n_2_1  n_2_2  \\\n",
       "circulation                                                                 \n",
       "1           2016-12-31 15:10:00      2      4     10     20      2      9   \n",
       "2           2017-03-01 22:00:00      6     12     17     20      3      9   \n",
       "3           2017-05-01 22:00:00      5     17     18     19     11     12   \n",
       "\n",
       "             n_2_3  n_2_4          prize  \n",
       "circulation                               \n",
       "1               16     17  1 000 000 000  \n",
       "2               13     16    300 000 000  \n",
       "3               14     20   300 000 000   "
      ]
     },
     "execution_count": 3,
     "metadata": {},
     "output_type": "execute_result"
    }
   ],
   "source": [
    "lottery = pd.read_csv(\"lottery.csv\", index_col=1, parse_dates=[0]).sort_index()\n",
    "print(lottery.shape)\n",
    "print (\"Строк               : \" , lottery.shape[0])\n",
    "print (\"Колонок             : \" , lottery.shape[1])\n",
    "print (\"\\nПоказатели          :\\n\" , lottery.columns.tolist())\n",
    "print (\"\\nПустые значения     : \", lottery.isnull().sum().values.sum())\n",
    "print (\"\\nУникальные значения :\\n\", lottery.nunique())\n",
    "print (\"\\nСводка по набору    :\")\n",
    "lottery.info()\n",
    "lottery.head(3)"
   ]
  },
  {
   "cell_type": "code",
   "execution_count": 4,
   "metadata": {},
   "outputs": [],
   "source": [
    "lottery.insert(0, 'id', lottery.index.values)"
   ]
  },
  {
   "cell_type": "code",
   "execution_count": 5,
   "metadata": {},
   "outputs": [],
   "source": [
    "lottery['prize'] = lottery['prize'].str.replace(' ', '')"
   ]
  },
  {
   "cell_type": "markdown",
   "metadata": {},
   "source": [
    "Выделим категориальные численные столбцы"
   ]
  },
  {
   "cell_type": "code",
   "execution_count": 6,
   "metadata": {},
   "outputs": [
    {
     "data": {
      "text/plain": [
       "(['id'],\n",
       " ['prize'],\n",
       " [],\n",
       " ['date',\n",
       "  'n_1_1',\n",
       "  'n_1_2',\n",
       "  'n_1_3',\n",
       "  'n_1_4',\n",
       "  'n_2_1',\n",
       "  'n_2_2',\n",
       "  'n_2_3',\n",
       "  'n_2_4'])"
      ]
     },
     "execution_count": 6,
     "metadata": {},
     "output_type": "execute_result"
    }
   ],
   "source": [
    "#Separating catagorical and numerical columns\n",
    "Id_col     = ['id']\n",
    "target_col = ['prize']\n",
    "cat_cols   = lottery.nunique()[lottery.nunique() < 6].keys().tolist()\n",
    "cat_cols   = [x for x in cat_cols if x not in target_col]\n",
    "num_cols   = [x for x in lottery.columns if x not in cat_cols + target_col + Id_col]\n",
    "Id_col, target_col, cat_cols, num_cols"
   ]
  },
  {
   "cell_type": "markdown",
   "metadata": {},
   "source": [
    "Категориальных значений нет"
   ]
  },
  {
   "cell_type": "markdown",
   "metadata": {},
   "source": [
    "Разобъем набор на тренировочный и тестовый наборы"
   ]
  },
  {
   "cell_type": "code",
   "execution_count": 7,
   "metadata": {},
   "outputs": [],
   "source": [
    "train, test = split_data(lottery, '2020-01-01')\n",
    "\n",
    "features = cat_cols+num_cols\n",
    "target = target_col\n",
    "\n",
    "X_test = test[features+['id']]\n",
    "y_test = test[target]\n",
    "\n",
    "X_train = train[features+['id']]\n",
    "y_train = train[target]\n",
    "\n",
    "\n",
    "X_test.to_csv(\"X_test.csv\", index=None)\n",
    "y_test.to_csv(\"y_test.csv\", index=None)\n",
    "\n",
    "X_train.to_csv(\"X_train.csv\", index=None)\n",
    "y_train.to_csv(\"y_train.csv\", index=None)"
   ]
  },
  {
   "cell_type": "code",
   "execution_count": 8,
   "metadata": {},
   "outputs": [
    {
     "data": {
      "text/html": [
       "<div>\n",
       "<style scoped>\n",
       "    .dataframe tbody tr th:only-of-type {\n",
       "        vertical-align: middle;\n",
       "    }\n",
       "\n",
       "    .dataframe tbody tr th {\n",
       "        vertical-align: top;\n",
       "    }\n",
       "\n",
       "    .dataframe thead th {\n",
       "        text-align: right;\n",
       "    }\n",
       "</style>\n",
       "<table border=\"1\" class=\"dataframe\">\n",
       "  <thead>\n",
       "    <tr style=\"text-align: right;\">\n",
       "      <th></th>\n",
       "      <th>date</th>\n",
       "      <th>n_1_1</th>\n",
       "      <th>n_1_2</th>\n",
       "      <th>n_1_3</th>\n",
       "      <th>n_1_4</th>\n",
       "      <th>n_2_1</th>\n",
       "      <th>n_2_2</th>\n",
       "      <th>n_2_3</th>\n",
       "      <th>n_2_4</th>\n",
       "      <th>id</th>\n",
       "    </tr>\n",
       "    <tr>\n",
       "      <th>circulation</th>\n",
       "      <th></th>\n",
       "      <th></th>\n",
       "      <th></th>\n",
       "      <th></th>\n",
       "      <th></th>\n",
       "      <th></th>\n",
       "      <th></th>\n",
       "      <th></th>\n",
       "      <th></th>\n",
       "      <th></th>\n",
       "    </tr>\n",
       "  </thead>\n",
       "  <tbody>\n",
       "    <tr>\n",
       "      <th>1</th>\n",
       "      <td>2016-12-31 15:10:00</td>\n",
       "      <td>2</td>\n",
       "      <td>4</td>\n",
       "      <td>10</td>\n",
       "      <td>20</td>\n",
       "      <td>2</td>\n",
       "      <td>9</td>\n",
       "      <td>16</td>\n",
       "      <td>17</td>\n",
       "      <td>1</td>\n",
       "    </tr>\n",
       "    <tr>\n",
       "      <th>2</th>\n",
       "      <td>2017-03-01 22:00:00</td>\n",
       "      <td>6</td>\n",
       "      <td>12</td>\n",
       "      <td>17</td>\n",
       "      <td>20</td>\n",
       "      <td>3</td>\n",
       "      <td>9</td>\n",
       "      <td>13</td>\n",
       "      <td>16</td>\n",
       "      <td>2</td>\n",
       "    </tr>\n",
       "    <tr>\n",
       "      <th>3</th>\n",
       "      <td>2017-05-01 22:00:00</td>\n",
       "      <td>5</td>\n",
       "      <td>17</td>\n",
       "      <td>18</td>\n",
       "      <td>19</td>\n",
       "      <td>11</td>\n",
       "      <td>12</td>\n",
       "      <td>14</td>\n",
       "      <td>20</td>\n",
       "      <td>3</td>\n",
       "    </tr>\n",
       "    <tr>\n",
       "      <th>4</th>\n",
       "      <td>2017-08-01 08:20:00</td>\n",
       "      <td>5</td>\n",
       "      <td>12</td>\n",
       "      <td>17</td>\n",
       "      <td>19</td>\n",
       "      <td>3</td>\n",
       "      <td>6</td>\n",
       "      <td>7</td>\n",
       "      <td>8</td>\n",
       "      <td>4</td>\n",
       "    </tr>\n",
       "    <tr>\n",
       "      <th>5</th>\n",
       "      <td>2017-10-01 22:00:00</td>\n",
       "      <td>3</td>\n",
       "      <td>8</td>\n",
       "      <td>9</td>\n",
       "      <td>13</td>\n",
       "      <td>5</td>\n",
       "      <td>7</td>\n",
       "      <td>8</td>\n",
       "      <td>16</td>\n",
       "      <td>5</td>\n",
       "    </tr>\n",
       "  </tbody>\n",
       "</table>\n",
       "</div>"
      ],
      "text/plain": [
       "                           date  n_1_1  n_1_2  n_1_3  n_1_4  n_2_1  n_2_2  \\\n",
       "circulation                                                                 \n",
       "1           2016-12-31 15:10:00      2      4     10     20      2      9   \n",
       "2           2017-03-01 22:00:00      6     12     17     20      3      9   \n",
       "3           2017-05-01 22:00:00      5     17     18     19     11     12   \n",
       "4           2017-08-01 08:20:00      5     12     17     19      3      6   \n",
       "5           2017-10-01 22:00:00      3      8      9     13      5      7   \n",
       "\n",
       "             n_2_3  n_2_4  id  \n",
       "circulation                    \n",
       "1               16     17   1  \n",
       "2               13     16   2  \n",
       "3               14     20   3  \n",
       "4                7      8   4  \n",
       "5                8     16   5  "
      ]
     },
     "execution_count": 8,
     "metadata": {},
     "output_type": "execute_result"
    }
   ],
   "source": [
    "X_train.head()"
   ]
  },
  {
   "cell_type": "markdown",
   "metadata": {},
   "source": [
    "#### Задание 2"
   ]
  },
  {
   "cell_type": "markdown",
   "metadata": {},
   "source": [
    "Провести EDA (exploratory data analysis: histograms, boxplots - visualization, etc)."
   ]
  },
  {
   "cell_type": "code",
   "execution_count": 9,
   "metadata": {},
   "outputs": [],
   "source": [
    "# В работе"
   ]
  },
  {
   "cell_type": "markdown",
   "metadata": {},
   "source": [
    "#### Задание 3"
   ]
  },
  {
   "cell_type": "markdown",
   "metadata": {},
   "source": [
    "Сделать feature engineering. При этом постарайтесь «завернуть» ваш код для преобразования данных в классы или функции (пример Transformer как в ноутбуке)."
   ]
  },
  {
   "cell_type": "code",
   "execution_count": 10,
   "metadata": {},
   "outputs": [],
   "source": [
    "# В работе"
   ]
  },
  {
   "cell_type": "markdown",
   "metadata": {},
   "source": [
    "#### Задание 4"
   ]
  },
  {
   "cell_type": "markdown",
   "metadata": {},
   "source": [
    "Обучить базовую модель (любую - на ваш выбор). При этом нужно использовать cross validation."
   ]
  },
  {
   "cell_type": "code",
   "execution_count": 11,
   "metadata": {},
   "outputs": [],
   "source": [
    "# В работе"
   ]
  },
  {
   "cell_type": "markdown",
   "metadata": {},
   "source": [
    "#### Задание 5"
   ]
  },
  {
   "cell_type": "markdown",
   "metadata": {},
   "source": [
    "Посчитайте разные метрики качества на cross-validation, отрисуйте графики (roc auc)."
   ]
  },
  {
   "cell_type": "code",
   "execution_count": 12,
   "metadata": {},
   "outputs": [],
   "source": [
    "# В работе"
   ]
  },
  {
   "cell_type": "markdown",
   "metadata": {},
   "source": [
    "#### Задание 6"
   ]
  },
  {
   "cell_type": "markdown",
   "metadata": {},
   "source": [
    "Сделать подбор гиперпараметров с помощью той же самой cross-validation."
   ]
  },
  {
   "cell_type": "code",
   "execution_count": 13,
   "metadata": {},
   "outputs": [],
   "source": [
    "# В работе"
   ]
  },
  {
   "cell_type": "markdown",
   "metadata": {},
   "source": [
    "#### Задание 7"
   ]
  },
  {
   "cell_type": "markdown",
   "metadata": {},
   "source": [
    "Сохраните вашу модель на диск"
   ]
  },
  {
   "cell_type": "code",
   "execution_count": 14,
   "metadata": {},
   "outputs": [],
   "source": [
    "# В работе"
   ]
  },
  {
   "cell_type": "markdown",
   "metadata": {},
   "source": [
    "#### Задание 8"
   ]
  },
  {
   "cell_type": "markdown",
   "metadata": {},
   "source": [
    "[в отдельном ноутбуке!] Загрузите ваш отложенный на шаге 1 датасет и сохраненные ранее файлы и сделайте прогноз моделью."
   ]
  },
  {
   "cell_type": "code",
   "execution_count": 15,
   "metadata": {},
   "outputs": [],
   "source": [
    "# В работе"
   ]
  },
  {
   "cell_type": "markdown",
   "metadata": {},
   "source": [
    "#### Задание 9"
   ]
  },
  {
   "cell_type": "markdown",
   "metadata": {},
   "source": [
    "Посчитайте метрики качества и сделайте выводы о том, насколько прогнозы (качество) на «новых» данных отличаются от того, что вы видели на cross-validation. Если будут очень серьезные отличия, то подумайте, где вы ошиблись и как это можно поправить."
   ]
  },
  {
   "cell_type": "code",
   "execution_count": 16,
   "metadata": {},
   "outputs": [],
   "source": [
    "# В работе"
   ]
  }
 ],
 "metadata": {
  "kernelspec": {
   "display_name": "Python 3",
   "language": "python",
   "name": "python3"
  },
  "language_info": {
   "codemirror_mode": {
    "name": "ipython",
    "version": 3
   },
   "file_extension": ".py",
   "mimetype": "text/x-python",
   "name": "python",
   "nbconvert_exporter": "python",
   "pygments_lexer": "ipython3",
   "version": "3.7.6"
  }
 },
 "nbformat": 4,
 "nbformat_minor": 4
}
